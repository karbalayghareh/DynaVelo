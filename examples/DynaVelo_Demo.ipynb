{
 "cells": [
  {
   "cell_type": "markdown",
   "metadata": {},
   "source": [
    "### DynaVelo Demo\n",
    "\n",
    "#### Usage\n",
    "Two adata files are required: adata_rna and adata_atac. The first adata contains preprocessed RNA expression values and RNA velocity estimates from scVelo. As RNA velocities are prone to error and sensitive to gene sets, we have to first check if the overall trajectories make biological sense. The second adata contains TF motif accessibility z-scores from chromVAR. The shape of adata_rna is [n_cells, n_genes], and the shape of adata_atac is [n_cells, n_tfs].\n",
    "\n",
    "#### Load data"
   ]
  },
  {
   "cell_type": "code",
   "execution_count": 1,
   "metadata": {},
   "outputs": [],
   "source": [
    "import scanpy as sc\n",
    "\n",
    "dataset_name = 'GCB'\n",
    "sample_name = 'CtcfWT29'\n",
    "\n",
    "adata_rna = sc.read_h5ad(f\"/media/labuser/STORAGE/sc-multiome/data/MelnickLab_GerminalCenter_BCells/processed_data_rna/finalized/RNA_Matrix_{sample_name}.h5ad\")\n",
    "adata_atac = sc.read_h5ad(f\"/media/labuser/STORAGE/sc-multiome/data/MelnickLab_GerminalCenter_BCells/processed_data_atac/MotifMatrix/finalized/MotifMatrix_{sample_name}.h5ad\")\n",
    "\n",
    "assert all(adata_rna.obs_names == adata_atac.obs_names)"
   ]
  },
  {
   "cell_type": "code",
   "execution_count": 3,
   "metadata": {},
   "outputs": [
    {
     "data": {
      "text/plain": [
       "CB_S_G2M                1369\n",
       "Transitioning_CB_CC     1327\n",
       "Transitioning_Sphase    1211\n",
       "Centrocyte              1156\n",
       "CB_G2M                   556\n",
       "CB_Rec_Sphase            530\n",
       "Prememory_Naive          421\n",
       "Centroblast              386\n",
       "CC_Rec                    89\n",
       "Plasmablast               61\n",
       "Recycling                 48\n",
       "Prememory_Memory          12\n",
       "Name: fine.celltype, dtype: int64"
      ]
     },
     "execution_count": 3,
     "metadata": {},
     "output_type": "execute_result"
    }
   ],
   "source": [
    "adata_rna.obs['fine.celltype'].value_counts()"
   ]
  },
  {
   "cell_type": "code",
   "execution_count": 4,
   "metadata": {},
   "outputs": [
    {
     "data": {
      "text/plain": [
       "CB_S_G2M                1369\n",
       "Transitioning_CB_CC     1327\n",
       "Transitioning_Sphase    1211\n",
       "Centrocyte              1156\n",
       "CB_G2M                   556\n",
       "CB_Rec_Sphase            530\n",
       "Prememory                433\n",
       "Centroblast              386\n",
       "CC_Rec                    89\n",
       "Plasmablast               61\n",
       "Recycling                 48\n",
       "Name: fine.celltype, dtype: int64"
      ]
     },
     "execution_count": 4,
     "metadata": {},
     "output_type": "execute_result"
    }
   ],
   "source": [
    "adata_atac.obs['fine.celltype'].value_counts()"
   ]
  },
  {
   "cell_type": "markdown",
   "metadata": {},
   "source": [
    "#### Build datasets and dataloaders\n",
    "We first build Pytorch datasets and dataloaders from adata_rna and adata_atac to be used for training. MultiomeDataset is used to create the custom datasets. We randomly allocate 10% of the cells for the test and the rest for the training dataset."
   ]
  },
  {
   "cell_type": "code",
   "execution_count": null,
   "metadata": {},
   "outputs": [],
   "source": [
    "import numpy as np\n",
    "import torch\n",
    "import torch.optim as optim\n",
    "from torch.utils.data import DataLoader\n",
    "import sys\n",
    "\n",
    "sys.path.append(\"..\")\n",
    "sys.path.append(\"../dynavelo\")\n",
    "from dynavelo.models import MultiomeDataset\n",
    "from dynavelo.models import DynaVelo\n",
    "\n",
    "# set seed\n",
    "seed = 0\n",
    "np.random.seed(seed)\n",
    "torch.manual_seed(seed)\n",
    "if torch.cuda.is_available():\n",
    "    torch.cuda.manual_seed_all(seed)\n",
    "\n",
    "# set gpu\n",
    "gpu = 0\n",
    "device = torch.device('cuda:' + str(gpu) if torch.cuda.is_available() else 'cpu')\n",
    "\n",
    "# datasets and dataloaders\n",
    "dataset = MultiomeDataset(adata_rna, adata_atac)\n",
    "N_test = int(0.1 * len(dataset))\n",
    "idx_random = np.random.permutation(len(dataset))\n",
    "idx_test = idx_random[:N_test]\n",
    "idx_train = idx_random[N_test:]\n",
    "dataset_train = MultiomeDataset(adata_rna[idx_train], adata_atac[idx_train])\n",
    "dataset_test = MultiomeDataset(adata_rna[idx_test], adata_atac[idx_test])\n",
    "\n",
    "dataloader_train = DataLoader(dataset_train, batch_size=128, shuffle=True, num_workers=0, drop_last=True)\n",
    "dataloader_test = DataLoader(dataset_test, batch_size=128, shuffle=False, num_workers=0)\n",
    "dataloader = DataLoader(dataset, batch_size=128, shuffle=False, num_workers=0)"
   ]
  },
  {
   "cell_type": "markdown",
   "metadata": {},
   "source": [
    "#### Initiate DynaVelo model"
   ]
  },
  {
   "cell_type": "code",
   "execution_count": null,
   "metadata": {},
   "outputs": [],
   "source": [
    "# model\n",
    "model = DynaVelo(x_dim=adata_rna.shape[1], y_dim=adata_atac.shape[1], device=device, sample_name=sample_name).to(device)\n",
    "optimizer = optim.Adam(model.parameters(), lr=1e-3)\n",
    "\n",
    "n_params = sum([np.prod(p.size()) for p in model.parameters()])\n",
    "print('number of parameters func: ', n_params)\n",
    "for name, param in model.named_parameters():\n",
    "    print(name, param.shape, param.dtype)\n",
    "    print(name, param)"
   ]
  },
  {
   "cell_type": "markdown",
   "metadata": {},
   "source": [
    "#### Training the model"
   ]
  },
  {
   "cell_type": "code",
   "execution_count": null,
   "metadata": {},
   "outputs": [],
   "source": [
    "# train\n",
    "model.fit(dataloader_train, dataloader_test, optimizer, max_epoch=200)"
   ]
  },
  {
   "cell_type": "markdown",
   "metadata": {},
   "source": [
    "#### Predicting velocities and latent times\n",
    "After a DynaVelo model is trained, we use it to predict the latent times, RNA velocities, and motif velocities for all cells, saving the results in the adata files. The mode evaluation-sample means that we sample from the learned posterior probabilities of initial points in the latent space and latent times of cells `n_samples` times, then report the mean and variance of the predicted velocities. The variance can represent uncertainty in the velocities.\n"
   ]
  },
  {
   "cell_type": "code",
   "execution_count": null,
   "metadata": {},
   "outputs": [],
   "source": [
    "# evaluate\n",
    "model.mode = 'evaluation-sample'\n",
    "adata_rna_pred, adata_atac_pred = model.evaluate(adata_rna, adata_atac, dataloader, n_samples=5)"
   ]
  },
  {
   "cell_type": "markdown",
   "metadata": {},
   "source": [
    "#### Calculate Jacobian matrices\n",
    "To learn dynamic and cell-state-specific gene regulatory networks (GRNs), we calculate the Jacobian matrices of the trained DynaVelo model. There are four types of Jacobian matrices:\n",
    "\n",
    "(1) J_vx_x, which measures the partial effects of RNA expression on RNA velocity and has the shape [n_cells, n_genes, n_genes].<br> \n",
    "(2) J_vy_x, which measures the partial effects of RNA expression on motif velocity and has the shape [n_cells, n_tfs, n_genes].<br> \n",
    "(3) J_vx_y, which measures the partial effects of TF motif accessibility on RNA velocity and has the shape [n_cells, n_genes, n_tfs].<br> \n",
    "(4) J_vy_y, which measures the partial effects of TF motif accessibility on motif velocity and has the shape [n_cells, n_tfs, n_tfs].\n",
    "\n",
    "Since the Jacobians are 3D dense tensors, they take a lot of memory, so we choose a subset of genes we are interested in and calculate the Jacobians for them. We include all the TFs in the subset of `genes_of_interest`, as we are interested in understanding how TFs regulate each other. The mode evaluation-fixed means that we use the mean of the latent times and initial points of the cells in the latent space without sampling.\n"
   ]
  },
  {
   "cell_type": "code",
   "execution_count": null,
   "metadata": {},
   "outputs": [],
   "source": [
    "# Jacobians\n",
    "TFs = adata_atac.var['TF'].values\n",
    "genes_of_interest = ['ARID1A', 'CTCF', 'POU2AF1', 'POU2F2', 'BCL6', 'IRF8', 'FOXO1', 'FOXP1', 'SPI1', 'SPIB', 'CREBBP', 'PRDM1', 'BATF', 'BCOR', 'TOX', 'PAX5', 'BACH2', 'MEF2B', 'NFKB1', 'NFKB2', 'STAT3', 'NOTCH2', 'RELA', 'NSD2', 'HHEX', 'XBP1', 'IRF4', 'MYC']\n",
    "genes_of_interest = [g.capitalize() for g in genes_of_interest]\n",
    "genes_of_interest = list(np.intersect1d(adata_rna_pred.var_names, np.union1d(TFs, genes_of_interest)))\n",
    "genes_of_interest.sort()\n",
    "\n",
    "model.mode = 'evaluation-fixed'\n",
    "adata_rna_pred = model.calculate_jacobians(model, adata_rna_pred, adata_atac_pred, dataloader, genes_of_interest, epsilon = 1e-4)"
   ]
  },
  {
   "cell_type": "markdown",
   "metadata": {},
   "source": [
    "#### In-silico gene perturbation\n",
    "One of the useful applications of DynaVelo is to perform in-silico gene perturbations and observe the resulting changes in RNA and motif velocities. This approach helps us understand how perturbing a gene can alter cell trajectories. Such insights are invaluable for identifying optimal perturbation targets to restore lost functions in diseases where normal trajectories have been disrupted. The `perturbed_genes` list specifies the genes for in-silico perturbations. If a gene is a TF, both its RNA expression and motif accessibility are set to the minimum value observed across all cells; otherwise, only RNA expression is perturbed."
   ]
  },
  {
   "cell_type": "code",
   "execution_count": null,
   "metadata": {},
   "outputs": [],
   "source": [
    "# In-silico gene perturbation\n",
    "TFs = adata_atac.var['TF'].values\n",
    "idx_tfs_sub = np.where((adata_rna_pred[:, TFs].X.toarray()>0).sum(0)>1000)[0]\n",
    "TFs_sub = TFs[idx_tfs_sub]\n",
    "perturbed_genes = ['ARID1A', 'CTCF', 'POU2AF1', 'POU2F2', 'BCL6', 'IRF8', 'FOXO1', 'FOXP1', 'SPI1', 'SPIB', 'CREBBP', 'PRDM1', 'BATF', 'BCOR', 'TOX', 'PAX5', 'BACH2', 'MEF2B', 'NFKB1', 'NFKB2', 'STAT3', 'NOTCH2', 'RELA', 'NSD2', 'HHEX', 'XBP1', 'IRF4', 'MYC']\n",
    "perturbed_genes = [g.capitalize() for g in perturbed_genes]\n",
    "perturbed_genes = list(np.intersect1d(adata_rna_pred.var_names, np.union1d(TFs_sub, perturbed_genes)))\n",
    "perturbed_genes.sort()\n",
    "\n",
    "model.mode = 'evaluation-fixed'\n",
    "adata_rna_pred = model.predict_perturbation(model, adata_rna_pred, adata_atac_pred, dataloader, perturbed_genes)"
   ]
  },
  {
   "cell_type": "markdown",
   "metadata": {},
   "source": [
    "#### Saving the adatas"
   ]
  },
  {
   "cell_type": "code",
   "execution_count": null,
   "metadata": {},
   "outputs": [],
   "source": [
    "adata_rna_pred.write_h5ad(f\"/media/labuser/STORAGE/sc-multiome/data/MelnickLab_GerminalCenter_BCells/processed_data_rna/predicted/RNA_Matrix_Pred_{sample_name}.h5ad\")\n",
    "adata_atac_pred.write_h5ad(f\"/media/labuser/STORAGE/sc-multiome/data/MelnickLab_GerminalCenter_BCells/processed_data_atac/MotifMatrix/predicted/Motif_Matrix_Pred_{sample_name}.h5ad\")"
   ]
  }
 ],
 "metadata": {
  "kernelspec": {
   "display_name": "pytorch.1.12",
   "language": "python",
   "name": "python3"
  },
  "language_info": {
   "codemirror_mode": {
    "name": "ipython",
    "version": 3
   },
   "file_extension": ".py",
   "mimetype": "text/x-python",
   "name": "python",
   "nbconvert_exporter": "python",
   "pygments_lexer": "ipython3",
   "version": "3.9.13"
  },
  "orig_nbformat": 4
 },
 "nbformat": 4,
 "nbformat_minor": 2
}
